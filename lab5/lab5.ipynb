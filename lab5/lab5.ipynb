{
 "cells": [
  {
   "cell_type": "code",
   "id": "7258b41d",
   "metadata": {
    "id": "7258b41d",
    "ExecuteTime": {
     "end_time": "2025-05-21T11:35:27.849767Z",
     "start_time": "2025-05-21T11:35:27.844625Z"
    }
   },
   "source": [
    "# Classification of points (images) lying on one side of the curve - the decision boundary:\n",
    "#\n",
    "#\n",
    "#                  (1,3)                (3,3)\n",
    "#                       o-----------------o\n",
    "#                      /                   \\      class 0\n",
    "#                     /                     \\\n",
    "#                    /                       \\\n",
    "#                   /                         \\\n",
    "# -----------------o  (-1,1)            (5,1)  o-------------------------------------------\n",
    "#\n",
    "#                              class 1"
   ],
   "outputs": [],
   "execution_count": 1
  },
  {
   "cell_type": "code",
   "id": "c358ce4b",
   "metadata": {
    "colab": {
     "base_uri": "https://localhost:8080/",
     "height": 0
    },
    "id": "c358ce4b",
    "outputId": "b9e5e238-9884-43f6-ff53-65f7ffc46a9e",
    "ExecuteTime": {
     "end_time": "2025-05-21T11:35:38.008024Z",
     "start_time": "2025-05-21T11:35:27.876318Z"
    }
   },
   "source": [
    "import time\n",
    "import os.path\n",
    "import pdb\n",
    "import matplotlib.pyplot as plt\n",
    "import numpy as np\n",
    "import tensorflow.compat.v1 as tf\n",
    "print(tf.__version__)\n",
    "# if tensorflow2 use tf.compat.v1. apart tf. (see classification2 script)\n",
    "tf.compat.v1.disable_eager_execution()"
   ],
   "outputs": [
    {
     "name": "stdout",
     "output_type": "stream",
     "text": [
      "2.19.0\n",
      "WARNING:tensorflow:From C:\\Users\\krzys\\AppData\\Local\\Temp\\ipykernel_4548\\3795659010.py:9: The name tf.disable_eager_execution is deprecated. Please use tf.compat.v1.disable_eager_execution instead.\n",
      "\n"
     ]
    }
   ],
   "execution_count": 2
  },
  {
   "cell_type": "code",
   "id": "f321e0c7",
   "metadata": {
    "id": "f321e0c7",
    "ExecuteTime": {
     "end_time": "2025-05-21T11:35:39.011884Z",
     "start_time": "2025-05-21T11:35:38.753671Z"
    }
   },
   "source": [
    "num_of_features = 2\n",
    "num_of_epochs = 1000\n",
    "num_to_show = 50\n",
    "\n",
    "sess = tf.InteractiveSession()\n",
    "\n",
    "x = tf.placeholder(tf.float32, shape=[None, num_of_features])  # place for input vectors\n",
    "y_ = tf.placeholder(tf.float32, shape=[None, 1])               # place for desired output of ANN"
   ],
   "outputs": [
    {
     "name": "stdout",
     "output_type": "stream",
     "text": [
      "WARNING:tensorflow:From C:\\Users\\krzys\\AppData\\Local\\Temp\\ipykernel_4548\\3078330521.py:5: The name tf.InteractiveSession is deprecated. Please use tf.compat.v1.InteractiveSession instead.\n",
      "\n"
     ]
    }
   ],
   "execution_count": 3
  },
  {
   "cell_type": "markdown",
   "id": "86d8b0cd",
   "metadata": {
    "id": "86d8b0cd"
   },
   "source": [
    "### Analytical version\n",
    "(See more: https://d2l.ai/chapter_linear-regression/linear-regression.html )"
   ]
  },
  {
   "cell_type": "code",
   "id": "ca28a5ed",
   "metadata": {
    "id": "ca28a5ed",
    "ExecuteTime": {
     "end_time": "2025-05-21T11:35:39.519890Z",
     "start_time": "2025-05-21T11:35:39.471592Z"
    }
   },
   "source": [
    "my_tensor = tf.constant([\n",
    "    [0.0,  -1.0,  0.0,  1.0],  # x1 coefficients for func1, func2, func3, func4\n",
    "    [ 1.0,  1.0,  1.0,  1.0]   # x2 coefficients for func1, func2, func3, func4\n",
    "],dtype=float)\n",
    "IW_a = tf.Variable(my_tensor)                                # 1-st level weights\n",
    "b1_a = tf.Variable(tf.constant([-2.0, -1.0, -3.0, -6.0],dtype=float))      # 1-st level biases -||-"
   ],
   "outputs": [],
   "execution_count": 4
  },
  {
   "cell_type": "code",
   "id": "f9d2d4bd",
   "metadata": {
    "id": "f9d2d4bd",
    "ExecuteTime": {
     "end_time": "2025-05-21T11:35:39.589162Z",
     "start_time": "2025-05-21T11:35:39.562018Z"
    }
   },
   "source": [
    "# output values from 1-st level:\n",
    "h1 = tf.cast(tf.less(tf.matmul(x, IW_a) + b1_a, 0.0), tf.float32)\n",
    "                                                             # use sharp threshold activation function like:\n",
    "                                                             #\n",
    "                                                             #          ---------\n",
    "                                                             #          |\n",
    "                                                             #   --------"
   ],
   "outputs": [],
   "execution_count": 5
  },
  {
   "cell_type": "code",
   "id": "fa05ed74",
   "metadata": {
    "id": "fa05ed74",
    "ExecuteTime": {
     "end_time": "2025-05-21T11:35:39.662882Z",
     "start_time": "2025-05-21T11:35:39.633177Z"
    }
   },
   "source": [
    "inside_trapezoid = tf.reduce_min(h1[:, 1:], axis=1, keepdims=True)\n",
    "below_1 = tf.expand_dims(h1[:, 0], axis=1)  # warunek x2 < 1\n",
    "\n",
    "y_a = tf.maximum(inside_trapezoid, below_1)\n",
    "y = y_a"
   ],
   "outputs": [],
   "execution_count": 6
  },
  {
   "cell_type": "code",
   "id": "60bea93d",
   "metadata": {
    "colab": {
     "base_uri": "https://localhost:8080/",
     "height": 452
    },
    "id": "60bea93d",
    "outputId": "71773305-23ef-4c48-d7d8-85f02bed5db8",
    "ExecuteTime": {
     "end_time": "2025-05-21T11:35:41.654222Z",
     "start_time": "2025-05-21T11:35:39.698543Z"
    }
   },
   "source": [
    "init = tf.global_variables_initializer()\n",
    "\n",
    "sess = tf.Session()\n",
    "sess.run(init)\n",
    "\n",
    "X1, X2 = np.meshgrid(np.linspace(-4, 8, 120), np.linspace(-4,8, 120))  # grid of points in 2D plane\n",
    "P = np.stack((X1.flatten(),X2.flatten()), axis=1)                    # points formated for ANN input\n",
    "Y = sess.run(y_a, feed_dict={x: P})                                    # ANN outputs for flatten grid  points\n",
    "Z = np.reshape(Y,X1.shape)                                           # reshaping to shape of grid\n",
    "plt.contourf(X1, X2, Z, levels=[0.5, 1.0])                           # curve for level=0.5 - a decision boundary, shaded class 1 area\n",
    "plt.title('v4 analytical method')\n",
    "plt.show()"
   ],
   "outputs": [
    {
     "data": {
      "text/plain": [
       "<Figure size 640x480 with 1 Axes>"
      ],
      "image/png": "[encoded data removed]"
     },
     "metadata": {},
     "output_type": "display_data"
    }
   ],
   "execution_count": 7
  },
  {
   "cell_type": "markdown",
   "id": "dd35dc27",
   "metadata": {
    "id": "dd35dc27"
   },
   "source": [
    "### Trainable version"
   ]
  },
  {
   "cell_type": "code",
   "source": [
    "nneu = [30, 1]                     # number of neurons in subsequent levels of ANN\n",
    "                                         # number of neurons in the last layer == 1\n",
    "num_of_epochs = 1000\n",
    "num_to_show = 50\n",
    "\n",
    "sess = tf.compat.v1.InteractiveSession()\n",
    "\n",
    "tf.compat.v1.disable_eager_execution()"
   ],
   "metadata": {
    "id": "gtrYK4vfELrz",
    "outputId": "1c57d013-901c-47e7-c38b-a50c02d8b93c",
    "colab": {
     "base_uri": "https://localhost:8080/",
     "height": 0
    },
    "ExecuteTime": {
     "end_time": "2025-05-21T11:35:41.746050Z",
     "start_time": "2025-05-21T11:35:41.730054Z"
    }
   },
   "id": "gtrYK4vfELrz",
   "outputs": [
    {
     "name": "stdout",
     "output_type": "stream",
     "text": [
      "ERROR:tensorflow:An interactive session is already active. This can cause out-of-memory errors or some other unexpected errors (due to the unpredictable timing of garbage collection) in some cases. You must explicitly call `InteractiveSession.close()` to release resources held by the other session(s). Please use `tf.Session()` if you intend to productionize.\n"
     ]
    }
   ],
   "execution_count": 8
  },
  {
   "cell_type": "code",
   "id": "a533348a",
   "metadata": {
    "id": "a533348a",
    "ExecuteTime": {
     "end_time": "2025-05-21T11:35:41.994119Z",
     "start_time": "2025-05-21T11:35:41.955227Z"
    }
   },
   "source": [
    "x = tf.compat.v1.placeholder(tf.float32, shape=[None, num_of_features])  # place for input vectors\n",
    "y_ = tf.compat.v1.placeholder(tf.float32, shape=[None, 1])\n",
    "IW = tf.Variable(tf.random.truncated_normal([num_of_features, nneu[0]], stddev=0.1))  # 1-st level weights initialized with normal distribution\n",
    "b1 = tf.Variable(tf.constant(0.1, shape=[nneu[0]]))                                    # 1-st level biases -||-"
   ],
   "outputs": [],
   "execution_count": 9
  },
  {
   "cell_type": "code",
   "id": "574917de",
   "metadata": {
    "id": "574917de",
    "ExecuteTime": {
     "end_time": "2025-05-21T11:35:42.216947Z",
     "start_time": "2025-05-21T11:35:42.185709Z"
    }
   },
   "source": [
    "h1 = h1 = tf.nn.tanh(tf.matmul(x, IW) + b1)            # use continuous version of activation function"
   ],
   "outputs": [],
   "execution_count": 10
  },
  {
   "cell_type": "code",
   "id": "44b142ce",
   "metadata": {
    "id": "44b142ce",
    "ExecuteTime": {
     "end_time": "2025-05-21T11:35:42.428680Z",
     "start_time": "2025-05-21T11:35:42.291368Z"
    }
   },
   "source": [
    "LW21 = tf.Variable(tf.random.truncated_normal([nneu[0],nneu[1]], stddev=0.1))               # 2-nd level weights values\n",
    "           # 2-nd level weights values\n",
    "b2 = tf.Variable(tf.zeros([nneu[1]]))                                                                                    # 2-nd level bias values\n",
    "\n",
    "# LW32 = .................           # maybe 3-d layer\n",
    "# b3 = ..................."
   ],
   "outputs": [],
   "execution_count": 11
  },
  {
   "cell_type": "code",
   "source": [
    "a2 = tf.matmul(h1, LW21) + b2                                   # weighted sum of signals from 1-st level\n",
    "if len(nneu) == 2:\n",
    "    y_lin = a2                                                  # output of network == output from 2-nd level\n",
    "if len(nneu) > 2:\n",
    "    h2 = tf.tanh(a2)                               # output from 2-nd level with nonlinear activation\n",
    "    LW32 = tf.Variable(tf.random.truncated_normal([nneu[1],nneu[2]], stddev=0.1))   # 3-nd level weights values\n",
    "    b3 = tf.Variable(tf.zeros([nneu[2]]))                                           # 3-nd level bias values\n",
    "    y_lin = tf.matmul(h2, LW32) + b3\n",
    "\n",
    "#y = tf.nn.sigmoid(y_lin)                # output from ANN (single value using sigmoidal act.funct in range (0,1))\n",
    "y = tf.nn.sigmoid(y_lin)\n",
    "                               # linear version of last layer of network (e.g. for regression)\n"
   ],
   "metadata": {
    "id": "7NdcZaTPFw-H",
    "ExecuteTime": {
     "end_time": "2025-05-21T11:35:42.567296Z",
     "start_time": "2025-05-21T11:35:42.484954Z"
    }
   },
   "id": "7NdcZaTPFw-H",
   "outputs": [],
   "execution_count": 12
  },
  {
   "cell_type": "code",
   "id": "e12cc8de",
   "metadata": {
    "id": "e12cc8de",
    "ExecuteTime": {
     "end_time": "2025-05-21T11:35:44.090520Z",
     "start_time": "2025-05-21T11:35:42.775097Z"
    }
   },
   "source": [
    "mean_square_error = tf.reduce_mean(tf.reduce_sum((y_ - y)*(y_ - y), reduction_indices=[1]))          # MSE loss function\n",
    "cross_entropy = tf.reduce_mean(-tf.reduce_sum(y_ * tf.log(y) + y*tf.log(y_+0.001), reduction_indices=[1])) # full cross-entropy loss function\n",
    "\n",
    "train_step = tf.compat.v1.train.AdamOptimizer(learning_rate=0.05).minimize(mean_square_error)                                                                             # You can choose loss function\n",
    "\n",
    "init = tf.global_variables_initializer()\n",
    "\n",
    "sess = tf.Session()\n",
    "sess.run(init)\n"
   ],
   "outputs": [
    {
     "name": "stdout",
     "output_type": "stream",
     "text": [
      "WARNING:tensorflow:From C:\\Users\\krzys\\AppData\\Local\\Temp\\ipykernel_4548\\2143910558.py:4: The name tf.train.AdamOptimizer is deprecated. Please use tf.compat.v1.train.AdamOptimizer instead.\n",
      "\n"
     ]
    }
   ],
   "execution_count": 13
  },
  {
   "cell_type": "code",
   "source": [
    "points = np.array([[-2,2],[-1,2],[0,3],[1,4],[2,4],[3,4],[4,3],[5,2],[6,2],[7,2],[6,7],[7,4],[2,6],[-2,6],\n",
    "                   [-2,0],[-1,0],[0,1],[1,2],[2,2],[3,2],[4,1],[5,0],[6,0],[7,0],[6,-1],[2,1],[2, -1],[-2,-2]\n",
    "                   ], dtype=float)\n",
    "class_labels = np.transpose(np.array([[0,0,0,0,0,0,0,0,0,0,0,0,0,0,1,1,1,1,1,1,1,1,1,1,1,1,1,1]], dtype = int))\n",
    "num_of_examples, num_of_features = points.shape\n",
    "range_min = np.amin(points,axis=0)       # for plotting\n",
    "range_max = np.amax(points,axis=0)\n",
    "print (\"number of examples = \"+str(num_of_examples)+ \", number of features = \"+str(num_of_features) )\n",
    "\n",
    "ind0 = np.where(class_labels == 0)       # indexes of examples which belong to class 0\n",
    "ind1 = np.where(class_labels == 1)\n",
    "\n"
   ],
   "metadata": {
    "id": "8HPZx-YdF5hs",
    "outputId": "18abe738-684d-41f3-b211-0ad7baa07456",
    "colab": {
     "base_uri": "https://localhost:8080/",
     "height": 0
    },
    "ExecuteTime": {
     "end_time": "2025-05-21T11:35:44.257313Z",
     "start_time": "2025-05-21T11:35:44.238682Z"
    }
   },
   "id": "8HPZx-YdF5hs",
   "outputs": [
    {
     "name": "stdout",
     "output_type": "stream",
     "text": [
      "number of examples = 28, number of features = 2\n"
     ]
    }
   ],
   "execution_count": 14
  },
  {
   "cell_type": "markdown",
   "id": "3d6b3a7d",
   "metadata": {
    "id": "3d6b3a7d"
   },
   "source": [
    "#### The training process"
   ]
  },
  {
   "cell_type": "code",
   "id": "bbb856d7",
   "metadata": {
    "colab": {
     "base_uri": "https://localhost:8080/",
     "height": 0
    },
    "id": "bbb856d7",
    "outputId": "c9fb71f4-229d-4f6a-a97a-f0b23d5f175b",
    "ExecuteTime": {
     "end_time": "2025-05-21T11:35:46.690779Z",
     "start_time": "2025-05-21T11:35:44.337566Z"
    }
   },
   "source": [
    "for epoch in range(num_of_epochs+1):\n",
    "    sess.run(train_step, feed_dict={x: points, y_: class_labels})     # ses.run using dictionary with whole training data\n",
    "    if epoch % num_to_show == 0:\n",
    "        wrong_prediction = tf.greater(tf.abs(y-y_),0.5)               # vector of classification errors\n",
    "        error = tf.reduce_mean(input_tensor=tf.cast(wrong_prediction, tf.float32)) # mean classification error\n",
    "\n",
    "        print(\"\\nafter \"+str(epoch)+\" epoch\")\n",
    "        print(\"MSE error = \" + str(sess.run(mean_square_error, feed_dict={x: points, y_: class_labels})))\n",
    "        print(\"Cross Entropy error = \" + str(sess.run(cross_entropy, feed_dict={x: points, y_: class_labels})))\n",
    "        print(\"training classification error = \" + str(sess.run(error, feed_dict={x: points, y_: class_labels})))\n",
    "\n"
   ],
   "outputs": [
    {
     "name": "stdout",
     "output_type": "stream",
     "text": [
      "\n",
      "after 0 epoch\n",
      "MSE error = 0.22279194\n",
      "Cross Entropy error = 1.5519826\n",
      "training classification error = 0.39285713\n",
      "\n",
      "after 50 epoch\n",
      "MSE error = 0.0018280529\n",
      "Cross Entropy error = 0.115159206\n",
      "training classification error = 0.0\n",
      "\n",
      "after 100 epoch\n",
      "MSE error = 0.00053294847\n",
      "Cross Entropy error = 0.056838654\n",
      "training classification error = 0.0\n",
      "\n",
      "after 150 epoch\n",
      "MSE error = 0.0002736701\n",
      "Cross Entropy error = 0.040530305\n",
      "training classification error = 0.0\n",
      "\n",
      "after 200 epoch\n",
      "MSE error = 0.00016838885\n",
      "Cross Entropy error = 0.031603135\n",
      "training classification error = 0.0\n",
      "\n",
      "after 250 epoch\n",
      "MSE error = 0.000114789254\n",
      "Cross Entropy error = 0.02596715\n",
      "training classification error = 0.0\n",
      "\n",
      "after 300 epoch\n",
      "MSE error = 8.363744e-05\n",
      "Cross Entropy error = 0.022075465\n",
      "training classification error = 0.0\n",
      "\n",
      "after 350 epoch\n",
      "MSE error = 6.3857675e-05\n",
      "Cross Entropy error = 0.01922357\n",
      "training classification error = 0.0\n",
      "\n",
      "after 400 epoch\n",
      "MSE error = 5.047813e-05\n",
      "Cross Entropy error = 0.017042825\n",
      "training classification error = 0.0\n",
      "\n",
      "after 450 epoch\n",
      "MSE error = 4.098607e-05\n",
      "Cross Entropy error = 0.015320713\n",
      "training classification error = 0.0\n",
      "\n",
      "after 500 epoch\n",
      "MSE error = 3.3995337e-05\n",
      "Cross Entropy error = 0.013925599\n",
      "training classification error = 0.0\n",
      "\n",
      "after 550 epoch\n",
      "MSE error = 2.868936e-05\n",
      "Cross Entropy error = 0.012771487\n",
      "training classification error = 0.0\n",
      "\n",
      "after 600 epoch\n",
      "MSE error = 2.4560652e-05\n",
      "Cross Entropy error = 0.011799797\n",
      "training classification error = 0.0\n",
      "\n",
      "after 650 epoch\n",
      "MSE error = 2.1280584e-05\n",
      "Cross Entropy error = 0.010969451\n",
      "training classification error = 0.0\n",
      "\n",
      "after 700 epoch\n",
      "MSE error = 1.8628107e-05\n",
      "Cross Entropy error = 0.010250713\n",
      "training classification error = 0.0\n",
      "\n",
      "after 750 epoch\n",
      "MSE error = 1.645042e-05\n",
      "Cross Entropy error = 0.009621729\n",
      "training classification error = 0.0\n",
      "\n",
      "after 800 epoch\n",
      "MSE error = 1.4638698e-05\n",
      "Cross Entropy error = 0.009065969\n",
      "training classification error = 0.0\n",
      "\n",
      "after 850 epoch\n",
      "MSE error = 1.311408e-05\n",
      "Cross Entropy error = 0.00857077\n",
      "training classification error = 0.0\n",
      "\n",
      "after 900 epoch\n",
      "MSE error = 1.1817833e-05\n",
      "Cross Entropy error = 0.008126265\n",
      "training classification error = 0.0\n",
      "\n",
      "after 950 epoch\n",
      "MSE error = 1.07058195e-05\n",
      "Cross Entropy error = 0.0077246567\n",
      "training classification error = 0.0\n",
      "\n",
      "after 1000 epoch\n",
      "MSE error = 9.744131e-06\n",
      "Cross Entropy error = 0.007359685\n",
      "training classification error = 0.0\n"
     ]
    }
   ],
   "execution_count": 15
  },
  {
   "cell_type": "markdown",
   "id": "dd331656",
   "metadata": {
    "id": "dd331656"
   },
   "source": [
    "#### Drawing decision boundary"
   ]
  },
  {
   "cell_type": "code",
   "id": "482e6b25",
   "metadata": {
    "colab": {
     "base_uri": "https://localhost:8080/",
     "height": 472
    },
    "id": "482e6b25",
    "outputId": "7e2aa38e-24c5-4ac0-a4d9-27478cefd397",
    "ExecuteTime": {
     "end_time": "2025-05-21T11:35:47.101119Z",
     "start_time": "2025-05-21T11:35:46.743962Z"
    }
   },
   "source": [
    "# drawing points:\n",
    "line1 = plt.plot(np.transpose(points[ind0[0],0]), np.transpose(points[ind0[0],1]), 'ro', label = 'class 0')\n",
    "line2 = plt.plot(np.transpose(points[ind1[0],0]), np.transpose(points[ind1[0],1]), 'bs', label = 'class 1')\n",
    "plt.title(\"points in 2d plane - decision boundary\")\n",
    "plt.xlabel(\"x1\")\n",
    "plt.ylabel(\"x2\")\n",
    "plt.legend()\n",
    "\n",
    "# drawing decision boundary:\n",
    "X1, X2 = np.meshgrid(np.linspace(range_min[0]- 0.3, range_max[0]+0.3, 120), np.linspace(range_min[1]- 0.3, range_max[1]+0.3, 80))  # grid of points in 2D plane\n",
    "P = np.stack((X1.flatten(),X2.flatten()), axis=1)                    # points formated for ANN input\n",
    "Y = sess.run(y, feed_dict={x: P})                                    # ANN outputs for flatten grid  points\n",
    "Z = np.reshape(Y,X1.shape)                                           # reshaping to shape of grid\n",
    "contour = plt.contour(X1, X2, Z, levels=[0.5], colors='black')\n",
    "plt.clabel(contour, inline=True)                # curve for level=0.5 - a decision boundary\n",
    "plt.show()"
   ],
   "outputs": [
    {
     "data": {
      "text/plain": [
       "<Figure size 640x480 with 1 Axes>"
      ],
      "image/png": "[encoded data removed]"
     },
     "metadata": {},
     "output_type": "display_data"
    }
   ],
   "execution_count": 16
  },
  {
   "cell_type": "markdown",
   "id": "f56fe5c2",
   "metadata": {
    "id": "f56fe5c2"
   },
   "source": [
    "#### Drawing 3D mesh"
   ]
  },
  {
   "cell_type": "code",
   "id": "cf1750c5",
   "metadata": {
    "id": "cf1750c5",
    "ExecuteTime": {
     "end_time": "2025-05-21T11:35:47.494636Z",
     "start_time": "2025-05-21T11:35:47.170871Z"
    }
   },
   "source": [
    "from matplotlib import cm\n",
    "from mpl_toolkits.mplot3d import Axes3D\n",
    "fig = plt.figure()\n",
    "ax = Axes3D(fig)\n",
    "ax.plot_surface(X1, X2, Z, rstride=1, cstride=1, cmap=cm.viridis)\n",
    "plt.title('v4 analytical method')\n",
    "plt.show()"
   ],
   "outputs": [
    {
     "data": {
      "text/plain": [
       "<Figure size 640x480 with 1 Axes>"
      ],
      "image/png": "[encoded data removed]"
     },
     "metadata": {},
     "output_type": "display_data"
    }
   ],
   "execution_count": 17
  }
 ],
 "metadata": {
  "kernelspec": {
   "display_name": "base",
   "language": "python",
   "name": "python3"
  },
  "language_info": {
   "codemirror_mode": {
    "name": "ipython",
    "version": 3
   },
   "file_extension": ".py",
   "mimetype": "text/x-python",
   "name": "python",
   "nbconvert_exporter": "python",
   "pygments_lexer": "ipython3",
   "version": "3.11.7"
  },
  "colab": {
   "provenance": []
  }
 },
 "nbformat": 4,
 "nbformat_minor": 5
}
