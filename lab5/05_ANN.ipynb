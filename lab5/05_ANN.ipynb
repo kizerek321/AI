{
 "cells": [
  {
   "cell_type": "code",
   "id": "7258b41d",
   "metadata": {
    "id": "7258b41d",
    "ExecuteTime": {
     "end_time": "2025-05-06T14:39:03.593352Z",
     "start_time": "2025-05-06T14:39:03.578301Z"
    }
   },
   "source": [
    "# Classification of points (images) lying on one side of the curve - the decision boundary:\n",
    "#\n",
    "#\n",
    "#                  (1,3)                (3,3)\n",
    "#                       o-----------------o\n",
    "#                      /                   \\      class 0\n",
    "#                     /                     \\\n",
    "#                    /                       \\\n",
    "#                   /                         \\\n",
    "# -----------------o  (-1,1)            (5,1)  o-------------------------------------------\n",
    "#\n",
    "#                              class 1"
   ],
   "outputs": [],
   "execution_count": 1
  },
  {
   "cell_type": "code",
   "id": "c358ce4b",
   "metadata": {
    "id": "c358ce4b",
    "outputId": "36a1d9f1-c39c-43a9-cce6-d8d2d727c84f",
    "colab": {
     "base_uri": "https://localhost:8080/"
    },
    "ExecuteTime": {
     "end_time": "2025-05-06T14:39:11.967413Z",
     "start_time": "2025-05-06T14:39:03.711909Z"
    }
   },
   "source": [
    "import time\n",
    "import os.path\n",
    "import pdb\n",
    "import matplotlib.pyplot as plt\n",
    "import numpy as np\n",
    "import tensorflow.compat.v1 as tf\n",
    "print(tf.__version__)\n",
    "# if tensorflow2 use tf.compat.v1. apart tf. (see classification2 script)\n",
    "tf.compat.v1.disable_eager_execution()"
   ],
   "outputs": [
    {
     "name": "stdout",
     "output_type": "stream",
     "text": [
      "2.19.0\n",
      "WARNING:tensorflow:From C:\\Users\\krzys\\AppData\\Local\\Temp\\ipykernel_1544\\3795659010.py:9: The name tf.disable_eager_execution is deprecated. Please use tf.compat.v1.disable_eager_execution instead.\n",
      "\n"
     ]
    }
   ],
   "execution_count": 2
  },
  {
   "cell_type": "code",
   "execution_count": 3,
   "id": "f321e0c7",
   "metadata": {
    "id": "f321e0c7"
   },
   "outputs": [],
   "source": [
    "num_of_features = 2\n",
    "num_of_epochs = 1000\n",
    "num_to_show = 50\n",
    "\n",
    "sess = tf.InteractiveSession()\n",
    "\n",
    "x = tf.placeholder(tf.float32, shape=[None, num_of_features])  # place for input vectors\n",
    "y_ = tf.placeholder(tf.float32, shape=[None, 1])               # place for desired output of ANN"
   ]
  },
  {
   "cell_type": "markdown",
   "id": "86d8b0cd",
   "metadata": {
    "id": "86d8b0cd"
   },
   "source": [
    "### Analytical version\n",
    "(See more: https://d2l.ai/chapter_linear-regression/linear-regression.html )"
   ]
  },
  {
   "cell_type": "code",
   "execution_count": 4,
   "id": "ca28a5ed",
   "metadata": {
    "id": "ca28a5ed",
    "outputId": "3279876e-a4d6-4ee4-e1ec-a3d2c4bf6ea9",
    "colab": {
     "base_uri": "https://localhost:8080/",
     "height": 106
    }
   },
   "outputs": [
    {
     "output_type": "error",
     "ename": "SyntaxError",
     "evalue": "invalid syntax. Perhaps you forgot a comma? (<ipython-input-4-3e690e6202ea>, line 1)",
     "traceback": [
      "\u001B[0;36m  File \u001B[0;32m\"<ipython-input-4-3e690e6202ea>\"\u001B[0;36m, line \u001B[0;32m1\u001B[0m\n\u001B[0;31m    my_tensor = tf.constant([.........],dtype=float)\u001B[0m\n\u001B[0m                             ^\u001B[0m\n\u001B[0;31mSyntaxError\u001B[0m\u001B[0;31m:\u001B[0m invalid syntax. Perhaps you forgot a comma?\n"
     ]
    }
   ],
   "source": [
    "my_tensor = tf.constant([[-1.0, 1.0], [-1.0, -1.0]], dtype=tf.float32)\n",
    "IW_a = tf.Variable(my_tensor)                                # 1-st level weights\n",
    "b1_a = tf.Variable(tf.constant([-2.0, 6.0], dtype=tf.float32))       # 1-st level biases -||-"
   ]
  },
  {
   "cell_type": "code",
   "execution_count": null,
   "id": "f9d2d4bd",
   "metadata": {
    "id": "f9d2d4bd"
   },
   "outputs": [],
   "source": [
    "# output values from 1-st level:\n",
    "h1_a = .................................\n",
    "                                                             # use sharp threshold activation function like:\n",
    "                                                             #\n",
    "                                                             #          ---------\n",
    "                                                             #          |\n",
    "                                                             #   --------"
   ]
  },
  {
   "cell_type": "code",
   "execution_count": null,
   "id": "fa05ed74",
   "metadata": {
    "id": "fa05ed74"
   },
   "outputs": [],
   "source": [
    "LW21_a = ..................           # 2-nd level weights values - analytical version\n",
    "b2_a = ...................."
   ]
  },
  {
   "cell_type": "code",
   "execution_count": null,
   "id": "60bea93d",
   "metadata": {
    "id": "60bea93d"
   },
   "outputs": [],
   "source": [
    "y_a = ......................                   # output flom ANN\n",
    "y = ........................                   # (single value using sigmoidal act.funct in range (0,1))"
   ]
  },
  {
   "cell_type": "markdown",
   "id": "dd35dc27",
   "metadata": {
    "id": "dd35dc27"
   },
   "source": [
    "### Trainable version"
   ]
  },
  {
   "cell_type": "code",
   "execution_count": null,
   "id": "a533348a",
   "metadata": {
    "id": "a533348a"
   },
   "outputs": [],
   "source": [
    "IW = ....................                                    # 1-st level weights\n",
    "b1 = ....................                                    # 1-st level biases -||-"
   ]
  },
  {
   "cell_type": "code",
   "execution_count": null,
   "id": "574917de",
   "metadata": {
    "id": "574917de"
   },
   "outputs": [],
   "source": [
    "h1 = ..................................                       # use continuous version of activation function"
   ]
  },
  {
   "cell_type": "code",
   "execution_count": null,
   "id": "44b142ce",
   "metadata": {
    "id": "44b142ce"
   },
   "outputs": [],
   "source": [
    "LW21 = ..................           # 2-nd level weights values\n",
    "b2 = ....................                                          # 2-nd level bias values\n",
    "\n",
    "# LW32 = .................           # maybe 3-d layer\n",
    "# b3 = ..................."
   ]
  },
  {
   "cell_type": "code",
   "execution_count": null,
   "id": "e12cc8de",
   "metadata": {
    "id": "e12cc8de"
   },
   "outputs": [],
   "source": [
    "mean_square_error = tf.reduce_mean(tf.reduce_sum((y_ - y)*(y_ - y), reduction_indices=[1]))          # MSE loss function\n",
    "cross_entropy = tf.reduce_mean(-tf.reduce_sum(y_ * tf.log(y) + y*tf.log(y_+0.001), reduction_indices=[1])) # full cross-entropy loss function\n",
    "\n",
    "train_step = tf.train.GradientDescentOptimizer(0.5).minimize(mean_square_error)   # training method, step value, loss function\n",
    "                                                                              # You can choose loss function\n",
    "\n",
    "init = tf.global_variables_initializer()\n",
    "\n",
    "sess = tf.Session()\n",
    "sess.run(init)\n"
   ]
  },
  {
   "cell_type": "markdown",
   "id": "3d6b3a7d",
   "metadata": {
    "id": "3d6b3a7d"
   },
   "source": [
    "#### The training process"
   ]
  },
  {
   "cell_type": "code",
   "execution_count": null,
   "id": "bbb856d7",
   "metadata": {
    "id": "bbb856d7"
   },
   "outputs": [],
   "source": [
    "# ........................................................\n",
    "# ........................................................"
   ]
  },
  {
   "cell_type": "markdown",
   "id": "dd331656",
   "metadata": {
    "id": "dd331656"
   },
   "source": [
    "#### Drawing decision boundary"
   ]
  },
  {
   "cell_type": "code",
   "execution_count": null,
   "id": "482e6b25",
   "metadata": {
    "id": "482e6b25"
   },
   "outputs": [],
   "source": [
    "X1, X2 = np.meshgrid(np.linspace(-4, 8, 120), np.linspace(-4,8, 120))  # grid of points in 2D plane\n",
    "P = np.stack((X1.flatten(),X2.flatten()), axis=1)                    # points formated for ANN input\n",
    "Y = sess.run(y_a, feed_dict={x: P})                                    # ANN outputs for flatten grid  points\n",
    "Z = np.reshape(Y,X1.shape)                                           # reshaping to shape of grid\n",
    "plt.contourf(X1, X2, Z, levels=[0.5, 1.0])                           # curve for level=0.5 - a decision boundary, shaded class 1 area\n",
    "plt.title('v4 analytical method')\n",
    "plt.show()\n"
   ]
  },
  {
   "cell_type": "markdown",
   "id": "f56fe5c2",
   "metadata": {
    "id": "f56fe5c2"
   },
   "source": [
    "#### Drawing 3D mesh"
   ]
  },
  {
   "cell_type": "code",
   "execution_count": null,
   "id": "cf1750c5",
   "metadata": {
    "id": "cf1750c5"
   },
   "outputs": [],
   "source": [
    "from matplotlib import cm\n",
    "from mpl_toolkits.mplot3d import Axes3D\n",
    "fig = plt.figure()\n",
    "ax = Axes3D(fig)\n",
    "ax.plot_surface(X1, X2, Z, rstride=1, cstride=1, cmap=cm.viridis)\n",
    "plt.title('v4 analytical method')\n",
    "plt.show()"
   ]
  }
 ],
 "metadata": {
  "kernelspec": {
   "display_name": "base",
   "language": "python",
   "name": "python3"
  },
  "language_info": {
   "codemirror_mode": {
    "name": "ipython",
    "version": 3
   },
   "file_extension": ".py",
   "mimetype": "text/x-python",
   "name": "python",
   "nbconvert_exporter": "python",
   "pygments_lexer": "ipython3",
   "version": "3.11.7"
  },
  "colab": {
   "provenance": []
  }
 },
 "nbformat": 4,
 "nbformat_minor": 5
}
